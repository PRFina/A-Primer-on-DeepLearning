{
  "nbformat": 4,
  "nbformat_minor": 0,
  "metadata": {
    "colab": {
      "name": "MultilayerPerceptron.ipynb",
      "provenance": [],
      "collapsed_sections": [
        "McrzKKo0gUKk",
        "nNHi5h3qdKTv",
        "oO__Yh3osdGb"
      ],
      "authorship_tag": "ABX9TyMQ9b6XiBVHV8YnR65cHeaG",
      "include_colab_link": true
    },
    "kernelspec": {
      "name": "python3",
      "display_name": "Python 3"
    },
    "accelerator": "GPU"
  },
  "cells": [
    {
      "cell_type": "markdown",
      "metadata": {
        "id": "view-in-github",
        "colab_type": "text"
      },
      "source": [
        "<a href=\"https://colab.research.google.com/github/PRFina/A-Primer-on-DeepLearning/blob/main/MultilayerPerceptron.ipynb\" target=\"_parent\"><img src=\"https://colab.research.google.com/assets/colab-badge.svg\" alt=\"Open In Colab\"/></a>"
      ]
    },
    {
      "cell_type": "code",
      "metadata": {
        "id": "Dphsq-GsaoPl"
      },
      "source": [
        "import numpy as np\n",
        "import tensorflow as tf\n",
        "import tensorflow.keras as keras\n",
        "import matplotlib.pyplot as plt\n",
        "\n",
        "# make you sure to fix pseudorandom seeds for reproducibility!\n",
        "print(tf.__version__)\n",
        "np.random.seed(420) \n",
        "tf.random.set_seed(420)"
      ],
      "execution_count": null,
      "outputs": []
    },
    {
      "cell_type": "code",
      "metadata": {
        "id": "grUpmNvycYM_"
      },
      "source": [
        "mnist_data = tf.keras.datasets.mnist\n",
        "\n",
        "(X_train, y_train), (X_test, y_test) = mnist_data.load_data()"
      ],
      "execution_count": null,
      "outputs": []
    },
    {
      "cell_type": "markdown",
      "metadata": {
        "id": "-U7u2wYedS3L"
      },
      "source": [
        "Let's take a quick look on data"
      ]
    },
    {
      "cell_type": "code",
      "metadata": {
        "id": "PcWb4IU6c_GJ"
      },
      "source": [
        "X_train.shape"
      ],
      "execution_count": null,
      "outputs": []
    },
    {
      "cell_type": "code",
      "metadata": {
        "id": "gvjRsFFrfpPy"
      },
      "source": [
        "y_train.shape\n"
      ],
      "execution_count": null,
      "outputs": []
    },
    {
      "cell_type": "code",
      "metadata": {
        "id": "XVwnhHj-lgla"
      },
      "source": [
        "np.unique(y_train) # 10 class classification problem"
      ],
      "execution_count": null,
      "outputs": []
    },
    {
      "cell_type": "markdown",
      "metadata": {
        "id": "QpoO0iJfgP1r"
      },
      "source": [
        "Show some examples"
      ]
    },
    {
      "cell_type": "code",
      "metadata": {
        "id": "NK0WtYS0dbLR"
      },
      "source": [
        "n_examples = 5\n",
        "fig, axes = plt.subplots(ncols=n_examples, figsize=(18,15))\n",
        "\n",
        "for ax, idx in zip(axes, np.random.randint(0,100,n_examples)): # show randomly picked training examples\n",
        "  ax.imshow(X_train[idx], cmap='gray')\n",
        "  ax.set_title(\"Example {} with label {}\".format(idx,y_train[idx]))\n"
      ],
      "execution_count": null,
      "outputs": []
    },
    {
      "cell_type": "markdown",
      "metadata": {
        "id": "McrzKKo0gUKk"
      },
      "source": [
        "## Model Specs\n",
        "\n",
        "Let's build our MLP NN. Make you sure to preprocess your data, in this case normalize images from uint8 (range 0-255) to float32  (range 0-1)\n",
        "\n",
        "The model building process can be conceptually divided into 2 stage:\n",
        "\n",
        "* model specification: define the overall architecture (number and type of layers, activation functions, etc.)\n",
        "\n",
        "* model compilation: choose the optimizer, loss functions and performance metrics.\n",
        "\n",
        "\n"
      ]
    },
    {
      "cell_type": "code",
      "metadata": {
        "id": "RutKIuhvhgnA"
      },
      "source": [
        "#@title\n",
        "X_train = X_train.astype(np.float32) / 255\n",
        "X_test = X_test.astype(np.float32) / 255"
      ],
      "execution_count": null,
      "outputs": []
    },
    {
      "cell_type": "code",
      "metadata": {
        "id": "GXbp_b1Zge8S"
      },
      "source": [
        "#@title\n",
        "def get_mlp_model():# specification\n",
        "  model = keras.models.Sequential() # just a simple feedforward NN\n",
        "\n",
        "  model.add(keras.layers.Flatten()) # add the input layer, automatically flatten out the images\n",
        "  model.add(keras.layers.Dense(128,activation=tf.nn.relu)) # add a dense layer with 128 units\n",
        "  model.add(keras.layers.Dense(10,activation=tf.nn.softmax)) # add an output layer, one unit for each class\n",
        "  \n",
        "\n",
        "  # compilation\n",
        "\n",
        "  model.compile(optimizer=tf.optimizers.Adam(), \n",
        "                loss=keras.losses.sparse_categorical_crossentropy,\n",
        "                metrics=['accuracy'])\n",
        "  return model"
      ],
      "execution_count": null,
      "outputs": []
    },
    {
      "cell_type": "markdown",
      "metadata": {
        "id": "nNHi5h3qdKTv"
      },
      "source": [
        "## Model Training"
      ]
    },
    {
      "cell_type": "code",
      "metadata": {
        "id": "gXSkWBvJdH8w"
      },
      "source": [
        "# training \r\n",
        "model = get_mlp_model()\r\n",
        "\r\n",
        "history = model.fit(X_train,y_train,epochs=5)"
      ],
      "execution_count": null,
      "outputs": []
    },
    {
      "cell_type": "code",
      "metadata": {
        "id": "4r1FD6osplHD"
      },
      "source": [
        "fig, ax = plt.subplots(figsize=(10,5))\n",
        "ax.plot(history.epoch, history.history['accuracy'], label='accuracy')\n",
        "ax.plot(history.epoch, history.history['loss'], label='loss')\n",
        "ax.set_xlabel('epochs')\n",
        "ax.legend()"
      ],
      "execution_count": null,
      "outputs": []
    },
    {
      "cell_type": "code",
      "metadata": {
        "id": "eUZZacVOrDQP"
      },
      "source": [
        "model.evaluate(X_test,y_test)"
      ],
      "execution_count": null,
      "outputs": []
    },
    {
      "cell_type": "markdown",
      "metadata": {
        "id": "oO__Yh3osdGb"
      },
      "source": [
        "## An harder problem\n",
        "\n",
        "Mnist dataset is the \"hello world\" of NN. Let's try with less easy data: *FashionMnist* dataset\n",
        "\n"
      ]
    },
    {
      "cell_type": "code",
      "metadata": {
        "id": "GsaUYfnzs5HO"
      },
      "source": [
        "(X_train, y_train), (X_test, y_test) = tf.keras.datasets.fashion_mnist.load_data()"
      ],
      "execution_count": null,
      "outputs": []
    },
    {
      "cell_type": "code",
      "metadata": {
        "id": "8TwQLsgmtRmu"
      },
      "source": [
        "n_examples = 5\n",
        "fig, axes = plt.subplots(ncols=n_examples, figsize=(18,15))\n",
        "\n",
        "for ax, idx in zip(axes, np.random.randint(0,100,n_examples)): # show randomly picked training examples\n",
        "  ax.imshow(X_train[idx], cmap='gray')\n",
        "  ax.set_title(\"Example {} with label {}\".format(idx,y_train[idx]))"
      ],
      "execution_count": null,
      "outputs": []
    },
    {
      "cell_type": "code",
      "metadata": {
        "id": "A70-UlJwuCLG"
      },
      "source": [
        "X_train = X_train.astype(np.float32) / 255\n",
        "X_test = X_test.astype(np.float32) / 255"
      ],
      "execution_count": null,
      "outputs": []
    },
    {
      "cell_type": "code",
      "metadata": {
        "id": "yAlqYDE0uIII"
      },
      "source": [
        "model = get_mlp_model()\n",
        "model.fit(X_train,y_train, epochs=5)"
      ],
      "execution_count": null,
      "outputs": []
    },
    {
      "cell_type": "code",
      "metadata": {
        "id": "arFyD3ZId9Tm"
      },
      "source": [
        "model.evaluate(X_test, y_test)"
      ],
      "execution_count": null,
      "outputs": []
    },
    {
      "cell_type": "code",
      "metadata": {
        "id": "BwhvtEzR6CQD"
      },
      "source": [
        "model.summary()"
      ],
      "execution_count": null,
      "outputs": []
    }
  ]
}