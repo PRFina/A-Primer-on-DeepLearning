{
  "nbformat": 4,
  "nbformat_minor": 0,
  "metadata": {
    "colab": {
      "name": "ConvolutionalNeuralNetwork.ipynb",
      "provenance": [],
      "collapsed_sections": [
        "xIWDL2u8Kxzx",
        "5o5RhL8YOPwg"
      ],
      "authorship_tag": "ABX9TyP2obfyUnSXaRqfP7W6yDXv",
      "include_colab_link": true
    },
    "kernelspec": {
      "name": "python3",
      "display_name": "Python 3"
    },
    "accelerator": "GPU"
  },
  "cells": [
    {
      "cell_type": "markdown",
      "metadata": {
        "id": "view-in-github",
        "colab_type": "text"
      },
      "source": [
        "<a href=\"https://colab.research.google.com/github/PRFina/A-Primer-on-DeepLearning/blob/main/ConvolutionalNeuralNetwork.ipynb\" target=\"_parent\"><img src=\"https://colab.research.google.com/assets/colab-badge.svg\" alt=\"Open In Colab\"/></a>"
      ]
    },
    {
      "cell_type": "markdown",
      "metadata": {
        "id": "vyOPiObUN6wh"
      },
      "source": [
        "# Convolutional Neural Network"
      ]
    },
    {
      "cell_type": "code",
      "metadata": {
        "id": "Dphsq-GsaoPl"
      },
      "source": [
        "#@title\n",
        "import numpy as np\n",
        "import tensorflow as tf\n",
        "import tensorflow.keras as keras\n",
        "import matplotlib.pyplot as plt\n",
        "\n",
        "print(tf.__version__)\n",
        "np.random.seed(420)\n",
        "tf.random.set_seed(420)"
      ],
      "execution_count": null,
      "outputs": []
    },
    {
      "cell_type": "markdown",
      "metadata": {
        "id": "oO__Yh3osdGb"
      },
      "source": [
        "## Mnist Dataset\n"
      ]
    },
    {
      "cell_type": "code",
      "metadata": {
        "id": "GsaUYfnzs5HO"
      },
      "source": [
        "(X_train, y_train), (X_test, y_test) = tf.keras.datasets.fashion_mnist.load_data()"
      ],
      "execution_count": null,
      "outputs": []
    },
    {
      "cell_type": "code",
      "metadata": {
        "id": "8TwQLsgmtRmu"
      },
      "source": [
        "n_examples = 5\n",
        "fig, axes = plt.subplots(ncols=n_examples, figsize=(18,15))\n",
        "\n",
        "for ax, idx in zip(axes, np.random.randint(0,100,n_examples)): # show randomly picked training examples\n",
        "  ax.imshow(X_train[idx], cmap='gray')\n",
        "  ax.set_title(\"Example {} with label {}\".format(idx,y_train[idx]))"
      ],
      "execution_count": null,
      "outputs": []
    },
    {
      "cell_type": "markdown",
      "metadata": {
        "id": "xIWDL2u8Kxzx"
      },
      "source": [
        "## Preprocessing & Training\r\n",
        "\r\n",
        "CNN expect volumes of shape (batch size, m, n, #channels)"
      ]
    },
    {
      "cell_type": "code",
      "metadata": {
        "id": "A70-UlJwuCLG"
      },
      "source": [
        "#@title\n",
        "X_train = X_train.astype(np.float32) / 255\n",
        "\n",
        "\n",
        "batch_size = X_train.shape[0]\n",
        "cols = X_train.shape[2]\n",
        "rows = X_train.shape[1]\n",
        "channels = 1\n",
        "\n",
        "X_train =  X_train.reshape((batch_size, rows, cols, channels))\n",
        "\n",
        "X_test = X_test.reshape(*(X_test.shape),1) # just a trick, same logic\n",
        "X_test = X_test.astype(np.float32) / 255"
      ],
      "execution_count": null,
      "outputs": []
    },
    {
      "cell_type": "code",
      "metadata": {
        "id": "Skr5YLyRIz1p"
      },
      "source": [
        "model = keras.models.Sequential()\n",
        "\n",
        "#first conv block\n",
        "model.add(keras.layers.Conv2D(64,(5,5), activation='relu', input_shape=(rows,cols,channels)))\n",
        "model.add(keras.layers.MaxPool2D((2,2)))\n",
        "\n",
        "# second conv block\n",
        "model.add(keras.layers.Conv2D(64,(3,3),activation='relu'))\n",
        "model.add(keras.layers.MaxPool2D((2,2)))\n",
        "\n",
        "# FCNN classifier\n",
        "model.add(keras.layers.Flatten())\n",
        "model.add(keras.layers.Dense(128,'relu'))\n",
        "model.add(keras.layers.Dense(10,'softmax'))\n",
        "\n",
        "model.compile(optimizer='Adam',loss='sparse_categorical_crossentropy', metrics=['accuracy'])\n",
        "\n",
        "model.fit(X_train,y_train, epochs=15,validation_split=0.1)"
      ],
      "execution_count": null,
      "outputs": []
    },
    {
      "cell_type": "code",
      "metadata": {
        "id": "yAlqYDE0uIII"
      },
      "source": [
        "model.evaluate(X_test, y_test)"
      ],
      "execution_count": null,
      "outputs": []
    },
    {
      "cell_type": "code",
      "metadata": {
        "id": "WHZI73Eq6FME"
      },
      "source": [
        "model.summary()"
      ],
      "execution_count": null,
      "outputs": []
    },
    {
      "cell_type": "markdown",
      "metadata": {
        "id": "5o5RhL8YOPwg"
      },
      "source": [
        "## Features Visualization"
      ]
    },
    {
      "cell_type": "code",
      "metadata": {
        "id": "kexXCCxFOXBX"
      },
      "source": [
        "weights, bias = model.layers[2].get_weights()"
      ],
      "execution_count": null,
      "outputs": []
    },
    {
      "cell_type": "code",
      "metadata": {
        "id": "PMsTNnlfS8S0"
      },
      "source": [
        "fig, ax = plt.subplots()\r\n",
        "ax.imshow(weights[:,:,0,2])"
      ],
      "execution_count": null,
      "outputs": []
    },
    {
      "cell_type": "code",
      "metadata": {
        "id": "fCIHAmUMUO8y"
      },
      "source": [
        "weights[:,:,0,3]"
      ],
      "execution_count": null,
      "outputs": []
    }
  ]
}